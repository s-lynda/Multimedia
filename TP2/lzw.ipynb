{
 "cells": [
  {
   "cell_type": "markdown",
   "metadata": {},
   "source": [
    "# Importing libraries"
   ]
  },
  {
   "cell_type": "code",
   "execution_count": 1,
   "metadata": {},
   "outputs": [],
   "source": [
    "import argparse\n",
    "import os\n",
    "import pickle\n",
    "DICTIONARY_SIZE = 256\n",
    "\n",
    "import argparse\n",
    "import itertools\n",
    "import os\n",
    "import pickle\n",
    "import cv2\n",
    "# module importés:\n",
    "import numpy as np\n",
    "import PIL\n",
    "from PIL import Image\n",
    "import base64\n"
   ]
  },
  {
   "cell_type": "markdown",
   "metadata": {},
   "source": [
    "# Compress"
   ]
  },
  {
   "cell_type": "code",
   "execution_count": 29,
   "metadata": {},
   "outputs": [],
   "source": [
    "def compress(input):\n",
    "    global DICTIONARY_SIZE\n",
    "    dictionary = {\n",
    "        0: '000',\n",
    "        255: '001'\n",
    "    }\n",
    "    result = []\n",
    "    temp = \"\"\n",
    "\n",
    "    for i in range(0, DICTIONARY_SIZE):\n",
    "        dictionary[str(chr(i))] = i\n",
    "\n",
    "    for c in input:\n",
    "        temp2 = temp +str(chr(c))\n",
    "        if temp2 in dictionary.keys():\n",
    "            temp = temp2\n",
    "        else:\n",
    "            result.append(dictionary[temp])\n",
    "            dictionary[temp2] = DICTIONARY_SIZE\n",
    "            DICTIONARY_SIZE += 1\n",
    "            temp = \"\" +str(chr(c))\n",
    "\n",
    "    if temp != \"\":\n",
    "        result.append(dictionary[temp])\n",
    "\n",
    "    return result"
   ]
  },
  {
   "cell_type": "code",
   "execution_count": 30,
   "metadata": {},
   "outputs": [
    {
     "ename": "TypeError",
     "evalue": "an integer is required (got type str)",
     "output_type": "error",
     "traceback": [
      "\u001b[1;31m---------------------------------------------------------------------------\u001b[0m",
      "\u001b[1;31mTypeError\u001b[0m                                 Traceback (most recent call last)",
      "\u001b[1;32mc:\\Users\\pc\\Downloads\\M1 IV 22-23\\Multimedia\\Tps\\TP2\\software_LZW_1\\lzw.ipynb Cell 5\u001b[0m in \u001b[0;36m<cell line: 1>\u001b[1;34m()\u001b[0m\n\u001b[1;32m----> <a href='vscode-notebook-cell:/c%3A/Users/pc/Downloads/M1%20IV%2022-23/Multimedia/Tps/TP2/software_LZW_1/lzw.ipynb#X16sZmlsZQ%3D%3D?line=0'>1</a>\u001b[0m compressed \u001b[39m=\u001b[39m compress(\u001b[39m'\u001b[39;49m\u001b[39mbfiebfie\u001b[39;49m\u001b[39m'\u001b[39;49m)\n\u001b[0;32m      <a href='vscode-notebook-cell:/c%3A/Users/pc/Downloads/M1%20IV%2022-23/Multimedia/Tps/TP2/software_LZW_1/lzw.ipynb#X16sZmlsZQ%3D%3D?line=1'>2</a>\u001b[0m \u001b[39mprint\u001b[39m (compressed)\n",
      "\u001b[1;32mc:\\Users\\pc\\Downloads\\M1 IV 22-23\\Multimedia\\Tps\\TP2\\software_LZW_1\\lzw.ipynb Cell 5\u001b[0m in \u001b[0;36mcompress\u001b[1;34m(input)\u001b[0m\n\u001b[0;32m     <a href='vscode-notebook-cell:/c%3A/Users/pc/Downloads/M1%20IV%2022-23/Multimedia/Tps/TP2/software_LZW_1/lzw.ipynb#X16sZmlsZQ%3D%3D?line=10'>11</a>\u001b[0m     dictionary[\u001b[39mstr\u001b[39m(\u001b[39mchr\u001b[39m(i))] \u001b[39m=\u001b[39m i\n\u001b[0;32m     <a href='vscode-notebook-cell:/c%3A/Users/pc/Downloads/M1%20IV%2022-23/Multimedia/Tps/TP2/software_LZW_1/lzw.ipynb#X16sZmlsZQ%3D%3D?line=12'>13</a>\u001b[0m \u001b[39mfor\u001b[39;00m c \u001b[39min\u001b[39;00m \u001b[39minput\u001b[39m:\n\u001b[1;32m---> <a href='vscode-notebook-cell:/c%3A/Users/pc/Downloads/M1%20IV%2022-23/Multimedia/Tps/TP2/software_LZW_1/lzw.ipynb#X16sZmlsZQ%3D%3D?line=13'>14</a>\u001b[0m     temp2 \u001b[39m=\u001b[39m temp \u001b[39m+\u001b[39m\u001b[39mstr\u001b[39m(\u001b[39mchr\u001b[39;49m(c))\n\u001b[0;32m     <a href='vscode-notebook-cell:/c%3A/Users/pc/Downloads/M1%20IV%2022-23/Multimedia/Tps/TP2/software_LZW_1/lzw.ipynb#X16sZmlsZQ%3D%3D?line=14'>15</a>\u001b[0m     \u001b[39mif\u001b[39;00m temp2 \u001b[39min\u001b[39;00m dictionary\u001b[39m.\u001b[39mkeys():\n\u001b[0;32m     <a href='vscode-notebook-cell:/c%3A/Users/pc/Downloads/M1%20IV%2022-23/Multimedia/Tps/TP2/software_LZW_1/lzw.ipynb#X16sZmlsZQ%3D%3D?line=15'>16</a>\u001b[0m         temp \u001b[39m=\u001b[39m temp2\n",
      "\u001b[1;31mTypeError\u001b[0m: an integer is required (got type str)"
     ]
    }
   ],
   "source": [
    "compressed = compress('bfiebfie')\n",
    "print (compressed)"
   ]
  },
  {
   "cell_type": "markdown",
   "metadata": {},
   "source": [
    "# Decompress"
   ]
  },
  {
   "cell_type": "code",
   "execution_count": 26,
   "metadata": {},
   "outputs": [],
   "source": [
    "\n",
    "def decompress(input):\n",
    "    global DICTIONARY_SIZE\n",
    "    dictionary = {\n",
    "        '000': 0,\n",
    "        '001': 255\n",
    "    }\n",
    "    result = []\n",
    "\n",
    "    for i in range(0, DICTIONARY_SIZE):\n",
    "        dictionary[i] = str(chr(i))\n",
    "\n",
    "    previous = chr(input[0])\n",
    "    input = input[1:] #means de 1 jusqu'à la fin \n",
    "\n",
    "    result.append(previous) \n",
    "\n",
    "    for bit in input:\n",
    "        aux = \"\"\n",
    "        if bit in dictionary.keys():\n",
    "            aux = dictionary[bit]\n",
    "        else:\n",
    "            aux = previous+previous[0] \n",
    "            #Bit is not in the dictionary\n",
    "                 # Get the last character printed + the first position of the last character printed\n",
    "                 #because we must decode bits that are not present in the dictionary, so we have to guess what it represents, for example:\n",
    "                 #let's say bit 37768 is not in the dictionary, so we get the last character printed, for example it was 'uh'\n",
    "                 #and we take it 'uh' plus its first position 'u', resulting in 'uhu', which is the representation of bit 37768\n",
    "                 #the only case where this can happen is if the substring starts and ends with the same character (\"uhuhu\").\n",
    "        result.append(aux)\n",
    "        dictionary[DICTIONARY_SIZE] = previous + aux[0]\n",
    "        DICTIONARY_SIZE+= 1\n",
    "        previous = aux\n",
    "    return result"
   ]
  },
  {
   "cell_type": "code",
   "execution_count": 25,
   "metadata": {},
   "outputs": [
    {
     "name": "stdout",
     "output_type": "stream",
     "text": [
      "['b', 'f', 'i', 'e', 'Ě', 'Ĝ']\n"
     ]
    }
   ],
   "source": [
    "decompressed = decompress(compressed)\n",
    "print (decompressed)"
   ]
  },
  {
   "cell_type": "code",
   "execution_count": null,
   "metadata": {},
   "outputs": [],
   "source": [
    "\n",
    "def decompress(input):\n",
    "    global DICTIONARY_SIZE\n",
    "    dictionary = {\n",
    "        '000': 0,\n",
    "        '001': 255\n",
    "    }\n",
    "    result = []\n",
    "\n",
    "    for i in range(0, DICTIONARY_SIZE):\n",
    "        dictionary[i] = str(chr(i))\n",
    "\n",
    "    previous = chr(input[0])\n",
    "    input = input[1:]\n",
    "    result.append(previous)\n",
    "\n",
    "    for bit in input:\n",
    "        aux = \"\"\n",
    "        if bit in dictionary.keys():\n",
    "            aux = dictionary[bit]\n",
    "        else:\n",
    "            aux = previous + previous[0]\n",
    "            # Bit is not in the dictionary\n",
    "            # Get the last character printed + the first position of the last character printed\n",
    "            # because we must decode bits that are not present in the dictionary, so we have to guess what it represents, for example:\n",
    "            # let's say bit 37768 is not in the dictionary, so we get the last character printed, for example it was 'uh'\n",
    "            # and we take it 'uh' plus its first position 'u', resulting in 'uhu', which is the representation of bit 37768\n",
    "            # the only case where this can happen is if the substring starts and ends with the same character (\"uhuhu\").\n",
    "        result.append(aux)\n",
    "        dictionary[DICTIONARY_SIZE] = previous + aux[0]\n",
    "        DICTIONARY_SIZE += 1\n",
    "        previous = aux\n",
    "\n",
    "    return result\n"
   ]
  },
  {
   "cell_type": "markdown",
   "metadata": {},
   "source": [
    "# Suite"
   ]
  },
  {
   "cell_type": "code",
   "execution_count": 7,
   "metadata": {},
   "outputs": [],
   "source": [
    "\n",
    "def binFileToImg(binaryFile):\n",
    "    w, h = 120,120\n",
    "\n",
    "    with open('binary_image1.bin', mode='rb') as f:\n",
    "        d = np.fromfile(f, dtype=np.uint8, count=w * h).reshape(h, w)\n",
    "\n",
    "        image = Image.fromarray(d)\n",
    "\n",
    "    if binaryFile == 'binary_image1.bin':\n",
    "        image.save('image1.png')\n",
    "    else:\n",
    "        image.save('image2.png')\n",
    "\n",
    "    image.show()\n",
    "\n",
    "def convertImgToArray2(image):\n",
    "    img_data = PIL.Image.open(image)\n",
    "    img_arr2 = np.array(img_data)\n",
    "    return img_arr2\n",
    "\n",
    "def convertImgToStr(imageFile, text_file):\n",
    "    with open(imageFile, \"rb\") as img2str:\n",
    "        converted_string = base64.b64encode(img2str.read())\n",
    "\n",
    "    with open(text_file, \"wb\") as file:\n",
    "        file.write(converted_string)\n",
    "\n",
    "    return imageFile, text_file\n",
    "\n",
    "def writeArray(array):\n",
    "    with open('image1.txt', \"w\") as file:\n",
    "        merged = list(itertools.chain.from_iterable(array))\n",
    "        string = \"\".join(str(s) for s in merged)\n",
    "        file.write(string)"
   ]
  },
  {
   "cell_type": "markdown",
   "metadata": {},
   "source": [
    "# Test"
   ]
  },
  {
   "cell_type": "code",
   "execution_count": 4,
   "metadata": {},
   "outputs": [
    {
     "name": "stderr",
     "output_type": "stream",
     "text": [
      "usage: ipykernel_launcher.py [-h] -i INPUT -o OUTPUT {decompress,compress}\n",
      "ipykernel_launcher.py: error: the following arguments are required: action, -i, -o\n"
     ]
    },
    {
     "ename": "SystemExit",
     "evalue": "2",
     "output_type": "error",
     "traceback": [
      "An exception has occurred, use %tb to see the full traceback.\n",
      "\u001b[1;31mSystemExit\u001b[0m\u001b[1;31m:\u001b[0m 2\n"
     ]
    },
    {
     "name": "stderr",
     "output_type": "stream",
     "text": [
      "c:\\ProgramData\\Anaconda3\\lib\\site-packages\\IPython\\core\\interactiveshell.py:3377: UserWarning: To exit: use 'exit', 'quit', or Ctrl-D.\n",
      "  warn(\"To exit: use 'exit', 'quit', or Ctrl-D.\", stacklevel=1)\n"
     ]
    }
   ],
   "source": [
    "\n",
    "parser = argparse.ArgumentParser(description = 'Text compressor and decompressor.')\n",
    "parser.add_argument('action', choices={\"compress\", \"decompress\"}, help=\"Define action to be performed.\")\n",
    "parser.add_argument('-i', action = 'store', dest = 'input', required = True,\n",
    "                           help = 'Input file.')\n",
    "parser.add_argument('-o', action = 'store', dest = 'output', required = True,\n",
    "                           help = 'Output file.')\n",
    "arguments = parser.parse_args()\n",
    "\n",
    "ABSOLUTE_PATH = os.getcwd()\n",
    "\n",
    "if arguments.action == 'compress':\n",
    "    input = open(ABSOLUTE_PATH+\"//\"+arguments.input, \"rb\").read()\n",
    "    output = open(ABSOLUTE_PATH+\"//\"+arguments.output, \"wb\")\n",
    "\n",
    "    compressedFile = compress(input)\n",
    "    pickle.dump(compressedFile, output)\n",
    "else:\n",
    "    input = pickle.load(open(ABSOLUTE_PATH+\"//\"+arguments.input, \"rb\"))\n",
    "    output = open(ABSOLUTE_PATH+\"//\"+arguments.output, \"w\")\n",
    "    \n",
    "    uncompressedFile = decompress(input)\n",
    "    for l in uncompressedFile:\n",
    "            output.write(l)\n",
    "    output.close()"
   ]
  },
  {
   "cell_type": "code",
   "execution_count": 8,
   "metadata": {},
   "outputs": [
    {
     "ename": "NameError",
     "evalue": "name 'np' is not defined",
     "output_type": "error",
     "traceback": [
      "\u001b[1;31m---------------------------------------------------------------------------\u001b[0m",
      "\u001b[1;31mNameError\u001b[0m                                 Traceback (most recent call last)",
      "\u001b[1;32mc:\\Users\\pc\\Downloads\\M1 IV 22-23\\Multimedia\\Tps\\TP2\\software_LZW_1\\lzw.ipynb Cell 13\u001b[0m in \u001b[0;36m<cell line: 1>\u001b[1;34m()\u001b[0m\n\u001b[1;32m----> <a href='vscode-notebook-cell:/c%3A/Users/pc/Downloads/M1%20IV%2022-23/Multimedia/Tps/TP2/software_LZW_1/lzw.ipynb#X20sZmlsZQ%3D%3D?line=0'>1</a>\u001b[0m image1_np \u001b[39m=\u001b[39m np\u001b[39m.\u001b[39marray([[\u001b[39m0\u001b[39m, \u001b[39m1\u001b[39m, \u001b[39m0\u001b[39m, \u001b[39m1\u001b[39m, \u001b[39m0\u001b[39m, \u001b[39m1\u001b[39m],\n\u001b[0;32m      <a href='vscode-notebook-cell:/c%3A/Users/pc/Downloads/M1%20IV%2022-23/Multimedia/Tps/TP2/software_LZW_1/lzw.ipynb#X20sZmlsZQ%3D%3D?line=1'>2</a>\u001b[0m                     [\u001b[39m1\u001b[39m, \u001b[39m0\u001b[39m, \u001b[39m1\u001b[39m, \u001b[39m0\u001b[39m, \u001b[39m1\u001b[39m, \u001b[39m0\u001b[39m],\n\u001b[0;32m      <a href='vscode-notebook-cell:/c%3A/Users/pc/Downloads/M1%20IV%2022-23/Multimedia/Tps/TP2/software_LZW_1/lzw.ipynb#X20sZmlsZQ%3D%3D?line=2'>3</a>\u001b[0m                     [\u001b[39m0\u001b[39m, \u001b[39m1\u001b[39m, \u001b[39m0\u001b[39m, \u001b[39m1\u001b[39m, \u001b[39m0\u001b[39m, \u001b[39m1\u001b[39m],\n\u001b[0;32m      <a href='vscode-notebook-cell:/c%3A/Users/pc/Downloads/M1%20IV%2022-23/Multimedia/Tps/TP2/software_LZW_1/lzw.ipynb#X20sZmlsZQ%3D%3D?line=3'>4</a>\u001b[0m                     [\u001b[39m1\u001b[39m, \u001b[39m0\u001b[39m, \u001b[39m1\u001b[39m, \u001b[39m0\u001b[39m, \u001b[39m1\u001b[39m, \u001b[39m0\u001b[39m],\n\u001b[0;32m      <a href='vscode-notebook-cell:/c%3A/Users/pc/Downloads/M1%20IV%2022-23/Multimedia/Tps/TP2/software_LZW_1/lzw.ipynb#X20sZmlsZQ%3D%3D?line=4'>5</a>\u001b[0m                     [\u001b[39m0\u001b[39m, \u001b[39m1\u001b[39m, \u001b[39m0\u001b[39m, \u001b[39m1\u001b[39m, \u001b[39m0\u001b[39m, \u001b[39m1\u001b[39m],\n\u001b[0;32m      <a href='vscode-notebook-cell:/c%3A/Users/pc/Downloads/M1%20IV%2022-23/Multimedia/Tps/TP2/software_LZW_1/lzw.ipynb#X20sZmlsZQ%3D%3D?line=5'>6</a>\u001b[0m                     [\u001b[39m1\u001b[39m, \u001b[39m0\u001b[39m, \u001b[39m1\u001b[39m, \u001b[39m0\u001b[39m, \u001b[39m1\u001b[39m, \u001b[39m0\u001b[39m]])\u001b[39m*\u001b[39m\u001b[39m255\u001b[39m\n\u001b[0;32m      <a href='vscode-notebook-cell:/c%3A/Users/pc/Downloads/M1%20IV%2022-23/Multimedia/Tps/TP2/software_LZW_1/lzw.ipynb#X20sZmlsZQ%3D%3D?line=7'>8</a>\u001b[0m writeArray(image1_np)\n\u001b[0;32m     <a href='vscode-notebook-cell:/c%3A/Users/pc/Downloads/M1%20IV%2022-23/Multimedia/Tps/TP2/software_LZW_1/lzw.ipynb#X20sZmlsZQ%3D%3D?line=9'>10</a>\u001b[0m image2_np \u001b[39m=\u001b[39m np\u001b[39m.\u001b[39marray([[\u001b[39m0\u001b[39m, \u001b[39m0\u001b[39m, \u001b[39m0.5\u001b[39m, \u001b[39m1\u001b[39m, \u001b[39m1\u001b[39m, \u001b[39m1\u001b[39m],\n\u001b[0;32m     <a href='vscode-notebook-cell:/c%3A/Users/pc/Downloads/M1%20IV%2022-23/Multimedia/Tps/TP2/software_LZW_1/lzw.ipynb#X20sZmlsZQ%3D%3D?line=10'>11</a>\u001b[0m                     [\u001b[39m1\u001b[39m, \u001b[39m1\u001b[39m, \u001b[39m1\u001b[39m, \u001b[39m0\u001b[39m, \u001b[39m0\u001b[39m, \u001b[39m0.5\u001b[39m],\n\u001b[0;32m     <a href='vscode-notebook-cell:/c%3A/Users/pc/Downloads/M1%20IV%2022-23/Multimedia/Tps/TP2/software_LZW_1/lzw.ipynb#X20sZmlsZQ%3D%3D?line=11'>12</a>\u001b[0m                     [\u001b[39m0.5\u001b[39m, \u001b[39m0\u001b[39m, \u001b[39m0\u001b[39m, \u001b[39m1\u001b[39m, \u001b[39m1\u001b[39m, \u001b[39m1\u001b[39m],\n\u001b[0;32m     <a href='vscode-notebook-cell:/c%3A/Users/pc/Downloads/M1%20IV%2022-23/Multimedia/Tps/TP2/software_LZW_1/lzw.ipynb#X20sZmlsZQ%3D%3D?line=12'>13</a>\u001b[0m                     [\u001b[39m0\u001b[39m, \u001b[39m0\u001b[39m, \u001b[39m0.5\u001b[39m, \u001b[39m1\u001b[39m, \u001b[39m1\u001b[39m, \u001b[39m1\u001b[39m],\n\u001b[0;32m     <a href='vscode-notebook-cell:/c%3A/Users/pc/Downloads/M1%20IV%2022-23/Multimedia/Tps/TP2/software_LZW_1/lzw.ipynb#X20sZmlsZQ%3D%3D?line=13'>14</a>\u001b[0m                     [\u001b[39m1\u001b[39m, \u001b[39m1\u001b[39m, \u001b[39m1\u001b[39m, \u001b[39m0\u001b[39m, \u001b[39m0\u001b[39m, \u001b[39m0.5\u001b[39m],\n\u001b[0;32m     <a href='vscode-notebook-cell:/c%3A/Users/pc/Downloads/M1%20IV%2022-23/Multimedia/Tps/TP2/software_LZW_1/lzw.ipynb#X20sZmlsZQ%3D%3D?line=14'>15</a>\u001b[0m                     [\u001b[39m0\u001b[39m, \u001b[39m0\u001b[39m, \u001b[39m0.5\u001b[39m, \u001b[39m1\u001b[39m, \u001b[39m1\u001b[39m, \u001b[39m1\u001b[39m]])\u001b[39m*\u001b[39m\u001b[39m255\u001b[39m\n",
      "\u001b[1;31mNameError\u001b[0m: name 'np' is not defined"
     ]
    }
   ],
   "source": [
    "\n",
    "image1_np = np.array([[0, 1, 0, 1, 0, 1],\n",
    "                    [1, 0, 1, 0, 1, 0],\n",
    "                    [0, 1, 0, 1, 0, 1],\n",
    "                    [1, 0, 1, 0, 1, 0],\n",
    "                    [0, 1, 0, 1, 0, 1],\n",
    "                    [1, 0, 1, 0, 1, 0]])*255\n",
    "\n",
    "writeArray(image1_np)\n",
    "\n",
    "image2_np = np.array([[0, 0, 0.5, 1, 1, 1],\n",
    "                    [1, 1, 1, 0, 0, 0.5],\n",
    "                    [0.5, 0, 0, 1, 1, 1],\n",
    "                    [0, 0, 0.5, 1, 1, 1],\n",
    "                    [1, 1, 1, 0, 0, 0.5],\n",
    "                    [0, 0, 0.5, 1, 1, 1]])*255\n",
    "\n",
    "#convertir l'image str puis stocker le str dans un fichier.txt\n",
    "#imageFile, fileTxt = convertImgToStr('paint.jpeg', 'image1.txt')\n",
    "#imageFile1, fileTxt1 = convertImgToStr('eyeman.jpeg', 'image2.txt')\n",
    "\n",
    "parser = argparse.ArgumentParser(description='Text compressor and decompressor.')\n",
    "parser.add_argument('action', choices={\"compress\", \"decompress\"}, help=\"Define action to be performed.\")\n",
    "parser.add_argument('-i', action='store', dest='input', required=True,\n",
    "                    help='Input file.')\n",
    "parser.add_argument('-o', action='store', dest='output', required=True,\n",
    "                    help='Output file.')\n",
    "arguments = parser.parse_args()\n",
    "\n",
    "ABSOLUTE_PATH = os.getcwd()\n",
    "\n",
    "# compression / decompression du fichier\n",
    "\n",
    "\n",
    "if arguments.action == 'compress':\n",
    "\n",
    "    input = open(ABSOLUTE_PATH + \"//\" + arguments.input, \"rb\").read()\n",
    "    output = open(ABSOLUTE_PATH + \"//\" + arguments.output, \"wb\")\n",
    "\n",
    "    compressedFile = compress(input)\n",
    "    pickle.dump(compressedFile, output)\n",
    "else:\n",
    "    input = pickle.load(open(ABSOLUTE_PATH + \"//\" + arguments.input, \"rb\"))\n",
    "    output = open(ABSOLUTE_PATH + \"//\" + arguments.output, \"w\")\n",
    "\n",
    "    uncompressedFile = decompress(input)\n",
    "    for l in uncompressedFile:\n",
    "        output.write(l)\n",
    "    output.close()\n",
    "\n",
    "# convertir le dossier .bin généré a une image\n",
    "\n",
    "#binFileToImg('binary_image1.bin')\n",
    "#binFileToImg('binary_image2.bin')\n"
   ]
  }
 ],
 "metadata": {
  "kernelspec": {
   "display_name": "Python 3.9.12 ('base')",
   "language": "python",
   "name": "python3"
  },
  "language_info": {
   "codemirror_mode": {
    "name": "ipython",
    "version": 3
   },
   "file_extension": ".py",
   "mimetype": "text/x-python",
   "name": "python",
   "nbconvert_exporter": "python",
   "pygments_lexer": "ipython3",
   "version": "3.9.12"
  },
  "orig_nbformat": 4,
  "vscode": {
   "interpreter": {
    "hash": "ad2bdc8ecc057115af97d19610ffacc2b4e99fae6737bb82f5d7fb13d2f2c186"
   }
  }
 },
 "nbformat": 4,
 "nbformat_minor": 2
}

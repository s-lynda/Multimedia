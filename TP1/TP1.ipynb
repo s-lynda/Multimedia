{
 "cells": [
  {
   "cell_type": "markdown",
   "metadata": {},
   "source": [
    "#  Importing Librairies"
   ]
  },
  {
   "cell_type": "code",
   "execution_count": 1,
   "metadata": {},
   "outputs": [],
   "source": [
    "from PIL import Image\n",
    "import numpy as np\n",
    "import cv2\n",
    "import itertools\n",
    "import warnings\n",
    "import qrcode\n",
    "from MyQR import myqr as mq\n",
    "from pyzbar.pyzbar import decode\n",
    "warnings.filterwarnings(\"ignore\")"
   ]
  },
  {
   "cell_type": "markdown",
   "metadata": {},
   "source": [
    "# Encoding an Image"
   ]
  },
  {
   "cell_type": "markdown",
   "metadata": {},
   "source": [
    "Function Encode to code the images"
   ]
  },
  {
   "cell_type": "code",
   "execution_count": 2,
   "metadata": {},
   "outputs": [],
   "source": [
    "def encode(image, file_name='compressed_image.txt', bits=15):\n",
    "\n",
    "    count_list = []\n",
    "    count = 0\n",
    "    prev = None\n",
    "    fimage = image.flatten()\n",
    "    size = 2**(bits+1) - 2**bits #32768 = 8000H\n",
    "    \n",
    "    for pixel in fimage:\n",
    "        \n",
    "        if prev == None:\n",
    "            prev = pixel \n",
    "            count += 1\n",
    "        else:\n",
    "            if prev != pixel:\n",
    "                if count >= 3:\n",
    "                    count_list.append((size+count, [prev]))\n",
    "                else:\n",
    "                    if count_list == []:\n",
    "                        count_list.append((count, [prev]*count))\n",
    "                    else: \n",
    "                        c, color = count_list[-1]\n",
    "                        if c > size:\n",
    "                            count_list.append((count, [prev]*count))\n",
    "                        else:\n",
    "                            if c+count <= (2**bits)-1:\n",
    "                                count_list[-1] = (c+count, color+[prev]*count)\n",
    "                            else:\n",
    "                                count_list.append((count, [prev]*count))\n",
    "                prev = pixel\n",
    "                count = 1\n",
    "            else:\n",
    "                if count < (2**bits)-1:\n",
    "                    count += 1                    \n",
    "                else:\n",
    "                    count_list.append((size+count, [prev]))\n",
    "                    prev = pixel\n",
    "                    count = 1\n",
    "\n",
    "    if count >= 3:\n",
    "        count_list.append((size+count, [prev]))\n",
    "    else:\n",
    "        c, color = count_list[-1]\n",
    "        if c > size:\n",
    "            count_list.append((count, [prev]*count))\n",
    "        else:\n",
    "            if c+count <= (2**bits)-1:\n",
    "                count_list[-1] = (c+count, color+[prev]*count)\n",
    "            else:\n",
    "                count_list.append((count, [prev]*count))\n",
    "\n",
    "    # Hexa encoding\n",
    "    with open(file_name,\"w\") as file:\n",
    "        hexa_encoded = \"\".join(map(lambda x: \"{0:04x}\".format(x[0])+\"\".join(map(lambda y: \"{0:02x}\".format(y), x[1])), count_list))\n",
    "        \"\"\" hexa_encoded = \"\"\n",
    "        for count, colors in count_list:\n",
    "            hexa_encoded += \"{0:04x}\".format(count)\n",
    "            for color in colors:\n",
    "                hexa_encoded += \"{0:02x}\".format(color) \"\"\"\n",
    "        file.write(hexa_encoded)\n",
    "        file.close()\n",
    "\n",
    "    # Compression rate\n",
    "    rate = (1-(len(hexa_encoded)/2)/len(fimage))*100\n",
    "    \n",
    "    return hexa_encoded, rate\n"
   ]
  },
  {
   "cell_type": "markdown",
   "metadata": {},
   "source": [
    "# Decoding an image"
   ]
  },
  {
   "cell_type": "code",
   "execution_count": 3,
   "metadata": {},
   "outputs": [],
   "source": [
    "\n",
    "def decode(height, width, file_name='compressed_image.txt', bits=15):\n",
    "\n",
    "    # Read the entire code from the file\n",
    "    with open(file_name, \"r\") as file:\n",
    "        code = file.readlines()[0]\n",
    "        \n",
    "    # Loop through the code and get the color of the pixels\n",
    "    size = 2**(bits+1) - 2**bits \n",
    "    i = 0\n",
    "    data = []\n",
    "    while i < len(code):\n",
    "        count = code[i:i+4]\n",
    "        count = int(count, 16)\n",
    "        i += 4\n",
    "        if count > size: \n",
    "            # Here the color is repeated 3 times or more\n",
    "            count -= size\n",
    "            color = code[i:i+2]\n",
    "            color = int(color, 16)            \n",
    "            data += [color]*count\n",
    "            i += 2\n",
    "        else: \n",
    "            # Here each color is repeated less than 3 times\n",
    "            color_seq = code[i:i+count*2]\n",
    "            colors = [int(color_seq[idx:idx+2], 16) for idx in range(0, len(color_seq), 2)]\n",
    "            data += colors\n",
    "            i += count*2\n",
    "\n",
    "    image = np.zeros((height, width)).astype(np.uint8)\n",
    "    for k, (i, j) in enumerate(itertools.product(range(height), range(width))):\n",
    "        image[i, j] = data[k]\n",
    "\n",
    "    return image\n"
   ]
  },
  {
   "cell_type": "markdown",
   "metadata": {},
   "source": [
    "# Test"
   ]
  },
  {
   "cell_type": "code",
   "execution_count": 4,
   "metadata": {},
   "outputs": [],
   "source": [
    "\n",
    "image1_np = np.array([[0, 1, 0, 1, 0, 1], \n",
    "                    [1, 0, 1, 0, 1, 0],\n",
    "                    [0, 1, 0, 1, 0, 1],\n",
    "                    [1, 0, 1, 0, 1, 0], \n",
    "                    [0, 1, 0, 1, 0, 1],\n",
    "                    [1, 0, 1, 0, 1, 0]])*255\n",
    "\n",
    "image2_np = np.array([[0, 0, 0, 1, 1, 1], \n",
    "                    [1, 1, 1, 0, 0, 0],\n",
    "                    [0, 0, 0, 1, 1, 1],\n",
    "                    [0, 0, 0, 1, 1, 1], \n",
    "                    [1, 1, 1, 0, 0, 0],\n",
    "                    [0, 0, 0, 1, 1, 1]])*255\n",
    "\n",
    "image3_np = np.array([[0, 0, 0, 0, 0, 0], \n",
    "                    [0, 0, 0, 0, 0, 0],\n",
    "                    [1, 1, 1, 1, 1, 1],\n",
    "                    [1, 1, 1, 1, 1, 1], \n",
    "                    [0, 0, 0, 0, 0, 0],\n",
    "                    [0, 0, 0, 0, 0, 0]])*255\n"
   ]
  },
  {
   "cell_type": "code",
   "execution_count": 5,
   "metadata": {},
   "outputs": [
    {
     "name": "stdout",
     "output_type": "stream",
     "text": [
      "Compression rate :-5.56%\n",
      "Error Rate: 0\n",
      "Compression rate :33.33%\n",
      "Error Rate: 0\n",
      "Compression rate :75.00%\n",
      "Error Rate: 0\n",
      "Compression rate :98.77%\n",
      "Error Rate: 0\n",
      "Compression rate :90.67%\n",
      "Error Rate: 0\n"
     ]
    }
   ],
   "source": [
    "\n",
    "encoded, rate = encode(image1_np, file_name='compressed1.txt', bits=15)\n",
    "print (f'Compression rate :{rate:.02f}%') # 1- 38/36 = -5.56%\n",
    "image = decode(height=6, width=6, file_name='compressed1.txt', bits=15)\n",
    "# This has to be equal to 0\n",
    "error_rate = np.count_nonzero(image - image1_np)\n",
    "print (f'Error Rate: {error_rate}') \n",
    "\n",
    "encoded, rate = encode(image2_np, file_name='compressed2.txt', bits=15)\n",
    "print (f'Compression rate :{rate:.02f}%') # 1- 24/36 = 33.33 %\n",
    "image = decode(height=6, width=6, file_name='compressed2.txt', bits=15)\n",
    "# This has to be equal to 0\n",
    "error_rate = np.count_nonzero(image - image2_np)\n",
    "print (f'Error Rate: {error_rate}') \n",
    "\n",
    "encoded, rate = encode(image3_np, file_name='compressed3.txt', bits=15)\n",
    "print (f'Compression rate :{rate:.02f}%') # 1- 9/36 = 75.00 %\n",
    "image = decode(height=6, width=6, file_name='compressed3.txt', bits=15)\n",
    "# This has to be equal to 0\n",
    "error_rate = np.count_nonzero(image - image3_np)\n",
    "print (f'Error Rate: {error_rate}') \n",
    "\n",
    "img_gray = cv2.imread('random.jpg', cv2.IMREAD_GRAYSCALE)\n",
    "_, img_bw = cv2.threshold(img_gray, 100, 255, cv2.THRESH_BINARY)\n",
    "cv2.imwrite('random_bi.png', img_bw)\n",
    "height, width = img_bw.shape # 787x444 = 349428\n",
    "encoded, rate = encode(img_bw, file_name='random_compressed.txt', bits=15)\n",
    "print (f'Compression rate :{rate:.02f}%') # 1- 4292/349428 = 98.77%\n",
    "image = decode(height, width, file_name='random_compressed.txt', bits=15)\n",
    "compressed_image = Image.fromarray(image, mode='L')\n",
    "compressed_image.show()\n",
    "compressed_image.save('random_decompressed.png')\n",
    "# This has to be equal to 0\n",
    "error_rate = np.count_nonzero(image - img_bw)\n",
    "print (f'Error Rate: {error_rate}') \n",
    "\n",
    "img_gray = cv2.imread('cablecar_2.bmp', cv2.IMREAD_GRAYSCALE)\n",
    "_, img_bw = cv2.threshold(img_gray, 100, 255, cv2.THRESH_BINARY)\n",
    "cv2.imwrite('cablecar_bi.png', img_bw)\n",
    "height, width = img_bw.shape # 512x480 = 245760\n",
    "encoded, rate = encode(img_bw, file_name='cablecar_compressed.txt', bits=15)\n",
    "print (f'Compression rate :{rate:.02f}%') # 1- 22927/245760 = 90.67%\n",
    "\n",
    "\n",
    "\n",
    "image = decode(height, width, file_name='cablecar_compressed.txt', bits=15)\n",
    "compressed_image = Image.fromarray(image, mode='L')\n",
    "compressed_image.show()\n",
    "compressed_image.save('cablecar_decompressed.png')\n",
    "# This has to be equal to 0\n",
    "error_rate = np.count_nonzero(image - img_bw)\n",
    "print (f'Error Rate: {error_rate}') "
   ]
  },
  {
   "cell_type": "markdown",
   "metadata": {},
   "source": [
    "# QR code"
   ]
  },
  {
   "cell_type": "code",
   "execution_count": 35,
   "metadata": {},
   "outputs": [],
   "source": [
    "with open('cablecar_compressed.txt') as f:\n",
    "    lines = f.readlines()[0]\n",
    "    \n",
    "Myqr = qrcode.QRCode()\n",
    "data=Myqr.add_data(lines)\n",
    "img=qrcode.make(data)\n",
    "img.save('code_qr.png')"
   ]
  },
  {
   "cell_type": "code",
   "execution_count": 36,
   "metadata": {},
   "outputs": [
    {
     "name": "stdout",
     "output_type": "stream",
     "text": [
      "QRCode data:\n",
      "None\n"
     ]
    }
   ],
   "source": [
    "image = cv2.imread('code_qr.png')\n",
    "detector = cv2.QRCodeDetector()\n",
    "data, vertices_array, binary_qrcode = detector.detectAndDecode(image)\n",
    "if vertices_array is not None:\n",
    "    print(\"QRCode data:\")\n",
    "    print(data)\n",
    "else:\n",
    "    print(\"There was some error\")"
   ]
  }
 ],
 "metadata": {
  "kernelspec": {
   "display_name": "Python 3.9.12 ('base')",
   "language": "python",
   "name": "python3"
  },
  "language_info": {
   "codemirror_mode": {
    "name": "ipython",
    "version": 3
   },
   "file_extension": ".py",
   "mimetype": "text/x-python",
   "name": "python",
   "nbconvert_exporter": "python",
   "pygments_lexer": "ipython3",
   "version": "3.9.12"
  },
  "orig_nbformat": 4,
  "vscode": {
   "interpreter": {
    "hash": "ad2bdc8ecc057115af97d19610ffacc2b4e99fae6737bb82f5d7fb13d2f2c186"
   }
  }
 },
 "nbformat": 4,
 "nbformat_minor": 2
}

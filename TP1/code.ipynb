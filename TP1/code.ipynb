{
 "cells": [
  {
   "cell_type": "markdown",
   "metadata": {},
   "source": [
    "# Imports for Code 1 and Code 2"
   ]
  },
  {
   "cell_type": "code",
   "execution_count": 1,
   "metadata": {},
   "outputs": [],
   "source": [
    "from PIL import Image\n",
    "import imageio as iio\n",
    "import cv2\n",
    "import math\n",
    "import numpy as np\n",
    "from matplotlib  import pyplot as plt\n",
    "import qrcode"
   ]
  },
  {
   "cell_type": "markdown",
   "metadata": {},
   "source": [
    "# ME"
   ]
  },
  {
   "cell_type": "markdown",
   "metadata": {},
   "source": [
    "## Plot the images"
   ]
  },
  {
   "cell_type": "code",
   "execution_count": 2,
   "metadata": {},
   "outputs": [],
   "source": [
    "arr1 = np.array([[0,255,0,255,0,255],\n",
    "[255,0,255,0,255,0],\n",
    "[0,255,0,255,0,255],[255,0,255,0,255,0]\n",
    ",[0,255,0,255,0,255],[255,0,255,0,255,0]])\n",
    "arr2 = np.array([[0,0,0,255,255,255],[255,255,255,0,0,0],[0,0,0,255,255,255],[0,0,0,255,255,255],[255,255,255,0,0,0],[0,0,0,255,255,255]])\n",
    "arr3 = np.array([[0,0,0,0,0,0],[0,0,0,0,0,0],[255,255,255,255,255,255],[255,255,255,255,255,255],[0,0,0,0,0,0],[0,0,0,0,0,0]])"
   ]
  },
  {
   "cell_type": "code",
   "execution_count": 3,
   "metadata": {},
   "outputs": [
    {
     "name": "stderr",
     "output_type": "stream",
     "text": [
      "c:\\ProgramData\\Anaconda3\\lib\\site-packages\\IPython\\core\\pylabtools.py:151: UserWarning: This figure includes Axes that are not compatible with tight_layout, so results might be incorrect.\n",
      "  fig.canvas.print_figure(bytes_io, **kw)\n"
     ]
    },
    {
     "data": {
      "image/png": "[encoded data removed]",
      "text/plain": [
       "<Figure size 432x288 with 3 Axes>"
      ]
     },
     "metadata": {
      "needs_background": "light"
     },
     "output_type": "display_data"
    }
   ],
   "source": [
    "# Set the figure size\n",
    "plt.rcParams[\"figure.autolayout\"] = True\n",
    "# Plot the data usingo imshow with gray colormap\n",
    "fig, axs = plt.subplots(1,3)\n",
    "axs[0].imshow(arr1, cmap='gray')\n",
    "axs[1].imshow(arr2, cmap='gray')\n",
    "axs[2].imshow(arr3, cmap='gray')\n",
    "# Display the plot\n",
    "plt.show()"
   ]
  },
  {
   "cell_type": "markdown",
   "metadata": {},
   "source": [
    "## Code images"
   ]
  },
  {
   "cell_type": "code",
   "execution_count": 4,
   "metadata": {},
   "outputs": [],
   "source": [
    "def code(image):\n",
    "    repeating_counter, not_repeating_counter = 1,0\n",
    "    coded_image= []\n",
    "    not_repeating_vals=[]\n",
    "    val = image[0]\n",
    "    val_counter = 1\n",
    "    for i in image[1:]:\n",
    "        if(i==val):\n",
    "            repeating_counter=repeating_counter+1\n",
    "            if(repeating_counter >2 and not_repeating_counter>0):\n",
    "                a = hex(not_repeating_counter)\n",
    "                coded_image=np.append(coded_image, [\"0\" + a[2:].zfill(3)])\n",
    "                coded_image=np.append(coded_image,not_repeating_vals)\n",
    "                not_repeating_counter=0\n",
    "                not_repeating_vals=[]\n",
    "        else:\n",
    "            if(repeating_counter>2):\n",
    "                a = hex(repeating_counter)\n",
    "                coded_image=np.append(coded_image, [\"8\" + a[2:].zfill(3), hex(val)[2:].zfill(4)])\n",
    "                repeating_counter=1\n",
    "            else:\n",
    "                repeating_counter = 1\n",
    "                not_repeating_counter=not_repeating_counter+1\n",
    "                not_repeating_vals.append(hex(val)[2:].zfill(4))\n",
    "        val = i\n",
    "    if(repeating_counter>2):\n",
    "        a = hex(repeating_counter)\n",
    "        coded_image=np.append(coded_image, [\"8\" + a[2:].zfill(3), hex(val)[2:].zfill(4)])\n",
    "    elif(not_repeating_counter>0):\n",
    "        a = hex(not_repeating_counter)\n",
    "        coded_image=np.append(coded_image, [ \"0\" + a[2:].zfill(3)])\n",
    "        coded_image=np.append(coded_image,not_repeating_vals)\n",
    "    else:\n",
    "        coded_image=np.append(coded_image, [\"0\" + a[2:].zfill(3)],hex(val)[2:].zfill(4),hex(val)[2:].zfill(4))\n",
    "    return coded_image"
   ]
  },
  {
   "cell_type": "code",
   "execution_count": 5,
   "metadata": {},
   "outputs": [],
   "source": [
    "def encode(image, file_name='compressed_image.txt', bits=15):\n",
    "\n",
    "    count_list = []\n",
    "    count = 0\n",
    "    prev = None\n",
    "    fimage = image.flatten()\n",
    "    size = 2**(bits+1) - 2**bits #32768 = 8000H\n",
    "    \n",
    "    for pixel in fimage:\n",
    "        \n",
    "        if prev == None:\n",
    "            prev = pixel \n",
    "            count += 1\n",
    "        else:\n",
    "            if prev != pixel: # The current pixel is different from the previous one\n",
    "                if count >= 3:\n",
    "                    count_list.append((size+count, [prev]))\n",
    "                else:\n",
    "                    if count_list == []:\n",
    "                        count_list.append((count, [prev]*count))\n",
    "                    else: \n",
    "                        c, color = count_list[-1]\n",
    "                        if c > size: \n",
    "                            count_list.append((count, [prev]*count))\n",
    "                        else:\n",
    "                            if c+count <= (2**bits)-1: # Make sure that we didn't use all of the 15 bits reserved for the color's sequence length \n",
    "                                count_list[-1] = (c+count, color+[prev]*count)\n",
    "                            else:\n",
    "                                count_list.append((count, [prev]*count))\n",
    "                prev = pixel\n",
    "                count = 1\n",
    "            else: # The current pixel is like the previous one\n",
    "                if count < (2**bits)-1: # Make sure that we didn't use all of the 15 bits reserved for the number of repetitions \n",
    "                    count += 1                    \n",
    "                else:\n",
    "                    count_list.append((size+count, [prev]))\n",
    "                    prev = pixel\n",
    "                    count = 1\n",
    "\n",
    "    if count >= 3:\n",
    "        count_list.append((size+count, [prev]))\n",
    "    else:\n",
    "        c, color = count_list[-1]\n",
    "        if c > size:\n",
    "            count_list.append((count, [prev]*count))\n",
    "        else:\n",
    "            if c+count <= (2**bits)-1:\n",
    "                count_list[-1] = (c+count, color+[prev]*count)\n",
    "            else:\n",
    "                count_list.append((count, [prev]*count))\n",
    "\n",
    "    # Hexa encoding\n",
    "    with open(file_name,\"w\") as file:\n",
    "        hexa_encoded = \",\".join(map(lambda x: \"{0:04x}\".format(x[0])+\",\".join(map(lambda y: \"{0:02x}\".format(y), x[1])), count_list))\n",
    "        \"\"\" hexa_encoded = \"\"\n",
    "        for count, colors in count_list:\n",
    "            hexa_encoded += \"{0:04x}\".format(count)\n",
    "            for color in colors:\n",
    "                hexa_encoded += \"{0:02x}\".format(color) \"\"\"\n",
    "        file.write(hexa_encoded)\n",
    "        \n",
    "    # Compression rate\n",
    "    rate = (1-(len(hexa_encoded)/2)/len(fimage))*100\n",
    "    arr = []\n",
    "    i=0\n",
    "    while(i<len(hexa_encoded)):\n",
    "        arr.append(hexa_encoded[i:i+4])\n",
    "        i = i+4\n",
    "    return hexa_encoded"
   ]
  },
  {
   "cell_type": "code",
   "execution_count": 6,
   "metadata": {},
   "outputs": [],
   "source": [
    "arr1_coded = encode(arr1)\n",
    "arr2_coded = encode(arr2)\n",
    "arr3_coded = encode(arr3)"
   ]
  },
  {
   "cell_type": "code",
   "execution_count": 7,
   "metadata": {},
   "outputs": [
    {
     "data": {
      "text/plain": [
       "('002400,ff,00,ff,00,ff,ff,00,ff,00,ff,00,00,ff,00,ff,00,ff,ff,00,ff,00,ff,00,00,ff,00,ff,00,ff,ff,00,ff,00,ff,00',\n",
       " '800300,8006ff,800600,8003ff,800300,8006ff,800600,8003ff',\n",
       " '800c00,800cff,800c00')"
      ]
     },
     "execution_count": 7,
     "metadata": {},
     "output_type": "execute_result"
    }
   ],
   "source": [
    "arr1_coded, arr2_coded, arr3_coded"
   ]
  },
  {
   "cell_type": "code",
   "execution_count": 8,
   "metadata": {},
   "outputs": [],
   "source": [
    "arr1_coded = code(arr1.flatten())\n",
    "arr2_coded = code(arr2.flatten())\n",
    "arr3_coded = code(arr3.flatten())"
   ]
  },
  {
   "cell_type": "code",
   "execution_count": 9,
   "metadata": {},
   "outputs": [
    {
     "data": {
      "text/plain": [
       "(array(['001e', '0000', '00ff', '0000', '00ff', '0000', '00ff', '0000',\n",
       "        '00ff', '0000', '00ff', '0000', '00ff', '0000', '00ff', '0000',\n",
       "        '00ff', '0000', '00ff', '0000', '00ff', '0000', '00ff', '0000',\n",
       "        '00ff', '0000', '00ff', '0000', '00ff', '0000', '00ff'],\n",
       "       dtype='<U32'),\n",
       " array(['8003', '0000', '8006', '00ff', '8006', '0000', '8003', '00ff',\n",
       "        '8003', '0000', '8006', '00ff', '8006', '0000', '8003', '00ff'],\n",
       "       dtype='<U32'),\n",
       " array(['800c', '0000', '800c', '00ff', '800c', '0000'], dtype='<U32'))"
      ]
     },
     "execution_count": 9,
     "metadata": {},
     "output_type": "execute_result"
    }
   ],
   "source": [
    "arr1_coded, arr2_coded, arr3_coded"
   ]
  },
  {
   "cell_type": "code",
   "execution_count": 10,
   "metadata": {},
   "outputs": [],
   "source": [
    "arr1_coded = ['0024', '00', 'FF', '00' ,'FF','00','FF','FF','00','FF','00',\n",
    "'FF','00','00','FF','00','FF','00','FF','FF','00','FF','00','FF','00','00','FF', \n",
    "'00','FF','00','FF','FF','00','FF','00','FF','00'\n",
    "]"
   ]
  },
  {
   "cell_type": "code",
   "execution_count": 11,
   "metadata": {},
   "outputs": [],
   "source": [
    "def decode(coded_image):\n",
    "    i=0\n",
    "    decoded_image = []\n",
    "    while (i<len(coded_image)):\n",
    "        binary_value = str(bin(int(coded_image[i], 16)))[2:].zfill(16)\n",
    "        if(binary_value[0] == \"1\"):\n",
    "            values_to_add = int(binary_value[1:], 2)\n",
    "            decoded_image = decoded_image +  [coded_image[i+1]] * values_to_add\n",
    "            i=i+2\n",
    "        else:\n",
    "            counter = int(binary_value, 2)\n",
    "            decoded_image = decoded_image + [value for value in coded_image[i+1:i+counter+1]]\n",
    "            i =  counter + 1\n",
    "    return np.array(decoded_image)"
   ]
  },
  {
   "cell_type": "code",
   "execution_count": 12,
   "metadata": {},
   "outputs": [
    {
     "data": {
      "text/plain": [
       "array(['00', 'FF', '00', 'FF', '00', 'FF', 'FF', '00', 'FF', '00', 'FF',\n",
       "       '00', '00', 'FF', '00', 'FF', '00', 'FF', 'FF', '00', 'FF', '00',\n",
       "       'FF', '00', '00', 'FF', '00', 'FF', '00', 'FF', 'FF', '00', 'FF',\n",
       "       '00', 'FF', '00'], dtype='<U2')"
      ]
     },
     "execution_count": 12,
     "metadata": {},
     "output_type": "execute_result"
    }
   ],
   "source": [
    "decode(arr1_coded)"
   ]
  },
  {
   "cell_type": "code",
   "execution_count": 24,
   "metadata": {},
   "outputs": [],
   "source": [
    "arr1_decoded = np.array([int(pixel, 16) for pixel in decode(arr1_coded)]).reshape(6,6)\n",
    "def decode(coded_image):\n",
    "    i=0\n",
    "    decoded_image = []\n",
    "    while (i<len(coded_image)):\n",
    "        binary_value = str(bin(int(coded_image[i], 16)))[2:].zfill(16)\n",
    "        if(binary_value[0] == \"1\"):\n",
    "            values_to_add = int(binary_value[1:], 2)\n",
    "            decoded_image = decoded_image +  [coded_image[i+1]] * values_to_add\n",
    "            i=i+2\n",
    "        else:\n",
    "            counter = int(binary_value, 2)\n",
    "            decoded_image = decoded_image + [value for value in coded_image[i+1:i+counter+1]]\n",
    "            i =  counter + 1\n",
    "    return np.array(decoded_image) \n",
    "arr2_decoded = np.array([int(pixel, 16) for pixel in decode(arr2_coded)]).reshape(6,6)\n",
    "arr3_decoded = np.array([int(pixel, 16) for pixel in decode(arr3_coded)]).reshape(6,6)"
   ]
  },
  {
   "cell_type": "code",
   "execution_count": 25,
   "metadata": {},
   "outputs": [
    {
     "data": {
      "text/plain": [
       "(array([[  0, 255,   0, 255,   0, 255],\n",
       "        [255,   0, 255,   0, 255,   0],\n",
       "        [  0, 255,   0, 255,   0, 255],\n",
       "        [255,   0, 255,   0, 255,   0],\n",
       "        [  0, 255,   0, 255,   0, 255],\n",
       "        [255,   0, 255,   0, 255,   0]]),\n",
       " array([[  0,   0,   0, 255, 255, 255],\n",
       "        [255, 255, 255,   0,   0,   0],\n",
       "        [  0,   0,   0, 255, 255, 255],\n",
       "        [  0,   0,   0, 255, 255, 255],\n",
       "        [255, 255, 255,   0,   0,   0],\n",
       "        [  0,   0,   0, 255, 255, 255]]),\n",
       " array([[  0,   0,   0,   0,   0,   0],\n",
       "        [  0,   0,   0,   0,   0,   0],\n",
       "        [255, 255, 255, 255, 255, 255],\n",
       "        [255, 255, 255, 255, 255, 255],\n",
       "        [  0,   0,   0,   0,   0,   0],\n",
       "        [  0,   0,   0,   0,   0,   0]]))"
      ]
     },
     "execution_count": 25,
     "metadata": {},
     "output_type": "execute_result"
    }
   ],
   "source": [
    "\n",
    "arr1_decoded, arr2_decoded, arr3_decoded"
   ]
  },
  {
   "cell_type": "code",
   "execution_count": 26,
   "metadata": {},
   "outputs": [
    {
     "data": {
      "text/plain": [
       "(array([[0, 0, 0, 0, 0, 0],\n",
       "        [0, 0, 0, 0, 0, 0],\n",
       "        [0, 0, 0, 0, 0, 0],\n",
       "        [0, 0, 0, 0, 0, 0],\n",
       "        [0, 0, 0, 0, 0, 0],\n",
       "        [0, 0, 0, 0, 0, 0]]),\n",
       " array([[0, 0, 0, 0, 0, 0],\n",
       "        [0, 0, 0, 0, 0, 0],\n",
       "        [0, 0, 0, 0, 0, 0],\n",
       "        [0, 0, 0, 0, 0, 0],\n",
       "        [0, 0, 0, 0, 0, 0],\n",
       "        [0, 0, 0, 0, 0, 0]]),\n",
       " array([[0, 0, 0, 0, 0, 0],\n",
       "        [0, 0, 0, 0, 0, 0],\n",
       "        [0, 0, 0, 0, 0, 0],\n",
       "        [0, 0, 0, 0, 0, 0],\n",
       "        [0, 0, 0, 0, 0, 0],\n",
       "        [0, 0, 0, 0, 0, 0]]))"
      ]
     },
     "execution_count": 26,
     "metadata": {},
     "output_type": "execute_result"
    }
   ],
   "source": [
    "arr1 - arr1_decoded, arr2 - arr2_decoded, arr3 - arr3_decoded"
   ]
  },
  {
   "cell_type": "code",
   "execution_count": 27,
   "metadata": {},
   "outputs": [
    {
     "data": {
      "image/png": "[encoded data removed]",
      "text/plain": [
       "<Figure size 432x288 with 4 Axes>"
      ]
     },
     "metadata": {
      "needs_background": "light"
     },
     "output_type": "display_data"
    }
   ],
   "source": [
    "# Set the figure size\n",
    "plt.rcParams[\"figure.autolayout\"] = True\n",
    "# Plot the data using imshow with gray colormap\n",
    "fig, axs = plt.subplots(1,4)\n",
    "axs[1].imshow(arr1_decoded, cmap='gray')\n",
    "axs[2].imshow(arr2_decoded, cmap='gray')\n",
    "axs[3].imshow(arr3_decoded, cmap='gray')\n",
    "# Display the plot\n",
    "plt.show()"
   ]
  },
  {
   "cell_type": "code",
   "execution_count": 28,
   "metadata": {},
   "outputs": [],
   "source": [
    "QRcode = qrcode.make(\"\".join(arr2_coded))\n",
    "QRcode.save(\"qrcode.png\")"
   ]
  },
  {
   "cell_type": "code",
   "execution_count": 29,
   "metadata": {},
   "outputs": [
    {
     "ename": "TypeError",
     "evalue": "object of type 'PngImageFile' has no len()",
     "output_type": "error",
     "traceback": [
      "\u001b[1;31m---------------------------------------------------------------------------\u001b[0m",
      "\u001b[1;31mTypeError\u001b[0m                                 Traceback (most recent call last)",
      "\u001b[1;32mc:\\Users\\pc\\Downloads\\M1 IV 22-23\\Multimedia\\Tps\\TP1\\code.ipynb Cell 22\u001b[0m in \u001b[0;36m<cell line: 1>\u001b[1;34m()\u001b[0m\n\u001b[1;32m----> <a href='vscode-notebook-cell:/c%3A/Users/pc/Downloads/M1%20IV%2022-23/Multimedia/Tps/TP1/code.ipynb#X30sZmlsZQ%3D%3D?line=0'>1</a>\u001b[0m result \u001b[39m=\u001b[39m decode(Image\u001b[39m.\u001b[39;49mopen(\u001b[39m\"\u001b[39;49m\u001b[39mqrcode.png\u001b[39;49m\u001b[39m\"\u001b[39;49m))\n\u001b[0;32m      <a href='vscode-notebook-cell:/c%3A/Users/pc/Downloads/M1%20IV%2022-23/Multimedia/Tps/TP1/code.ipynb#X30sZmlsZQ%3D%3D?line=1'>2</a>\u001b[0m \u001b[39mprint\u001b[39m(result)\n",
      "\u001b[1;32mc:\\Users\\pc\\Downloads\\M1 IV 22-23\\Multimedia\\Tps\\TP1\\code.ipynb Cell 22\u001b[0m in \u001b[0;36mdecode\u001b[1;34m(coded_image)\u001b[0m\n\u001b[0;32m      <a href='vscode-notebook-cell:/c%3A/Users/pc/Downloads/M1%20IV%2022-23/Multimedia/Tps/TP1/code.ipynb#X30sZmlsZQ%3D%3D?line=2'>3</a>\u001b[0m i\u001b[39m=\u001b[39m\u001b[39m0\u001b[39m\n\u001b[0;32m      <a href='vscode-notebook-cell:/c%3A/Users/pc/Downloads/M1%20IV%2022-23/Multimedia/Tps/TP1/code.ipynb#X30sZmlsZQ%3D%3D?line=3'>4</a>\u001b[0m decoded_image \u001b[39m=\u001b[39m []\n\u001b[1;32m----> <a href='vscode-notebook-cell:/c%3A/Users/pc/Downloads/M1%20IV%2022-23/Multimedia/Tps/TP1/code.ipynb#X30sZmlsZQ%3D%3D?line=4'>5</a>\u001b[0m \u001b[39mwhile\u001b[39;00m (i\u001b[39m<\u001b[39m\u001b[39mlen\u001b[39;49m(coded_image)):\n\u001b[0;32m      <a href='vscode-notebook-cell:/c%3A/Users/pc/Downloads/M1%20IV%2022-23/Multimedia/Tps/TP1/code.ipynb#X30sZmlsZQ%3D%3D?line=5'>6</a>\u001b[0m     binary_value \u001b[39m=\u001b[39m \u001b[39mstr\u001b[39m(\u001b[39mbin\u001b[39m(\u001b[39mint\u001b[39m(coded_image[i], \u001b[39m16\u001b[39m)))[\u001b[39m2\u001b[39m:]\u001b[39m.\u001b[39mzfill(\u001b[39m16\u001b[39m)\n\u001b[0;32m      <a href='vscode-notebook-cell:/c%3A/Users/pc/Downloads/M1%20IV%2022-23/Multimedia/Tps/TP1/code.ipynb#X30sZmlsZQ%3D%3D?line=6'>7</a>\u001b[0m     \u001b[39mif\u001b[39;00m(binary_value[\u001b[39m0\u001b[39m] \u001b[39m==\u001b[39m \u001b[39m\"\u001b[39m\u001b[39m1\u001b[39m\u001b[39m\"\u001b[39m):\n",
      "\u001b[1;31mTypeError\u001b[0m: object of type 'PngImageFile' has no len()"
     ]
    }
   ],
   "source": [
    "result = decode(Image.open(\"qrcode.png\"))\n",
    "print(result)"
   ]
  }
 ],
 "metadata": {
  "kernelspec": {
   "display_name": "Python 3.9.12 ('base')",
   "language": "python",
   "name": "python3"
  },
  "language_info": {
   "codemirror_mode": {
    "name": "ipython",
    "version": 3
   },
   "file_extension": ".py",
   "mimetype": "text/x-python",
   "name": "python",
   "nbconvert_exporter": "python",
   "pygments_lexer": "ipython3",
   "version": "3.9.12"
  },
  "orig_nbformat": 4,
  "vscode": {
   "interpreter": {
    "hash": "ad2bdc8ecc057115af97d19610ffacc2b4e99fae6737bb82f5d7fb13d2f2c186"
   }
  }
 },
 "nbformat": 4,
 "nbformat_minor": 2
}
